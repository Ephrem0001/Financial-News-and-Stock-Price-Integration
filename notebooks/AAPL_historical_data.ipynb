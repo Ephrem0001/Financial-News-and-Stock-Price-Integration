{
 "cells": [
  {
   "cell_type": "code",
   "execution_count": 1,
   "metadata": {},
   "outputs": [],
   "source": [
    "import pandas as pd\n",
    "import numpy as np\n",
    "import matplotlib.pyplot as plt\n",
    "import seaborn as sns"
   ]
  },
  {
   "cell_type": "code",
   "execution_count": 3,
   "metadata": {},
   "outputs": [
    {
     "data": {
      "text/html": [
       "<div>\n",
       "<style scoped>\n",
       "    .dataframe tbody tr th:only-of-type {\n",
       "        vertical-align: middle;\n",
       "    }\n",
       "\n",
       "    .dataframe tbody tr th {\n",
       "        vertical-align: top;\n",
       "    }\n",
       "\n",
       "    .dataframe thead th {\n",
       "        text-align: right;\n",
       "    }\n",
       "</style>\n",
       "<table border=\"1\" class=\"dataframe\">\n",
       "  <thead>\n",
       "    <tr style=\"text-align: right;\">\n",
       "      <th></th>\n",
       "      <th>Date</th>\n",
       "      <th>Open</th>\n",
       "      <th>High</th>\n",
       "      <th>Low</th>\n",
       "      <th>Close</th>\n",
       "      <th>Adj Close</th>\n",
       "      <th>Volume</th>\n",
       "      <th>Dividends</th>\n",
       "      <th>Stock Splits</th>\n",
       "    </tr>\n",
       "  </thead>\n",
       "  <tbody>\n",
       "    <tr>\n",
       "      <th>6974</th>\n",
       "      <td>2008-08-04</td>\n",
       "      <td>5.592857</td>\n",
       "      <td>5.639286</td>\n",
       "      <td>5.461071</td>\n",
       "      <td>5.472500</td>\n",
       "      <td>4.621391</td>\n",
       "      <td>592527600</td>\n",
       "      <td>0.0</td>\n",
       "      <td>0.0</td>\n",
       "    </tr>\n",
       "    <tr>\n",
       "      <th>3602</th>\n",
       "      <td>1995-03-14</td>\n",
       "      <td>0.341518</td>\n",
       "      <td>0.341518</td>\n",
       "      <td>0.308036</td>\n",
       "      <td>0.312500</td>\n",
       "      <td>0.261637</td>\n",
       "      <td>727865600</td>\n",
       "      <td>0.0</td>\n",
       "      <td>0.0</td>\n",
       "    </tr>\n",
       "    <tr>\n",
       "      <th>6427</th>\n",
       "      <td>2006-06-01</td>\n",
       "      <td>2.137500</td>\n",
       "      <td>2.224286</td>\n",
       "      <td>2.125714</td>\n",
       "      <td>2.220357</td>\n",
       "      <td>1.875037</td>\n",
       "      <td>942508000</td>\n",
       "      <td>0.0</td>\n",
       "      <td>0.0</td>\n",
       "    </tr>\n",
       "    <tr>\n",
       "      <th>144</th>\n",
       "      <td>1981-07-10</td>\n",
       "      <td>0.099888</td>\n",
       "      <td>0.099888</td>\n",
       "      <td>0.099330</td>\n",
       "      <td>0.099330</td>\n",
       "      <td>0.076573</td>\n",
       "      <td>55171200</td>\n",
       "      <td>0.0</td>\n",
       "      <td>0.0</td>\n",
       "    </tr>\n",
       "  </tbody>\n",
       "</table>\n",
       "</div>"
      ],
      "text/plain": [
       "           Date      Open      High       Low     Close  Adj Close     Volume  \\\n",
       "6974 2008-08-04  5.592857  5.639286  5.461071  5.472500   4.621391  592527600   \n",
       "3602 1995-03-14  0.341518  0.341518  0.308036  0.312500   0.261637  727865600   \n",
       "6427 2006-06-01  2.137500  2.224286  2.125714  2.220357   1.875037  942508000   \n",
       "144  1981-07-10  0.099888  0.099888  0.099330  0.099330   0.076573   55171200   \n",
       "\n",
       "      Dividends  Stock Splits  \n",
       "6974        0.0           0.0  \n",
       "3602        0.0           0.0  \n",
       "6427        0.0           0.0  \n",
       "144         0.0           0.0  "
      ]
     },
     "execution_count": 3,
     "metadata": {},
     "output_type": "execute_result"
    }
   ],
   "source": [
    "df = pd.read_csv(r'C:\\Users\\ephre\\Documents\\Financial News and Stock Price Integration\\data\\yfinance_data\\AAPL_historical_data.csv', parse_dates=['Date'])\n",
    "df.sample(4)"
   ]
  },
  {
   "cell_type": "code",
   "execution_count": null,
   "metadata": {},
   "outputs": [],
   "source": []
  }
 ],
 "metadata": {
  "kernelspec": {
   "display_name": "base",
   "language": "python",
   "name": "python3"
  },
  "language_info": {
   "codemirror_mode": {
    "name": "ipython",
    "version": 3
   },
   "file_extension": ".py",
   "mimetype": "text/x-python",
   "name": "python",
   "nbconvert_exporter": "python",
   "pygments_lexer": "ipython3",
   "version": "3.11.5"
  }
 },
 "nbformat": 4,
 "nbformat_minor": 2
}
